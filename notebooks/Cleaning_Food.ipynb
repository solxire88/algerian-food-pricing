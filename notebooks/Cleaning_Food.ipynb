{
 "cells": [
  {
   "cell_type": "code",
   "execution_count": 30,
   "id": "aaa02abf-d8a6-4f80-8c10-200769c70ad6",
   "metadata": {},
   "outputs": [],
   "source": [
    "import pandas as pd "
   ]
  },
  {
   "cell_type": "code",
   "execution_count": 31,
   "id": "44c4fdc6-e799-4665-9d4e-2d3fbb567590",
   "metadata": {},
   "outputs": [
    {
     "data": {
      "text/html": [
       "<div>\n",
       "<style scoped>\n",
       "    .dataframe tbody tr th:only-of-type {\n",
       "        vertical-align: middle;\n",
       "    }\n",
       "\n",
       "    .dataframe tbody tr th {\n",
       "        vertical-align: top;\n",
       "    }\n",
       "\n",
       "    .dataframe thead th {\n",
       "        text-align: right;\n",
       "    }\n",
       "</style>\n",
       "<table border=\"1\" class=\"dataframe\">\n",
       "  <thead>\n",
       "    <tr style=\"text-align: right;\">\n",
       "      <th></th>\n",
       "      <th>date</th>\n",
       "      <th>admin1</th>\n",
       "      <th>admin2</th>\n",
       "      <th>market</th>\n",
       "      <th>market_id</th>\n",
       "      <th>latitude</th>\n",
       "      <th>longitude</th>\n",
       "      <th>category</th>\n",
       "      <th>commodity</th>\n",
       "      <th>commodity_id</th>\n",
       "      <th>unit</th>\n",
       "      <th>priceflag</th>\n",
       "      <th>pricetype</th>\n",
       "      <th>currency</th>\n",
       "      <th>price</th>\n",
       "      <th>usdprice</th>\n",
       "    </tr>\n",
       "  </thead>\n",
       "  <tbody>\n",
       "    <tr>\n",
       "      <th>1</th>\n",
       "      <td>2015-04-15</td>\n",
       "      <td>Alger</td>\n",
       "      <td>Hydra</td>\n",
       "      <td>Algiers</td>\n",
       "      <td>1794</td>\n",
       "      <td>36.75</td>\n",
       "      <td>3.04</td>\n",
       "      <td>cereals and tubers</td>\n",
       "      <td>Pasta</td>\n",
       "      <td>112</td>\n",
       "      <td>500 G</td>\n",
       "      <td>actual</td>\n",
       "      <td>Retail</td>\n",
       "      <td>DZD</td>\n",
       "      <td>60</td>\n",
       "      <td>0.61</td>\n",
       "    </tr>\n",
       "    <tr>\n",
       "      <th>2</th>\n",
       "      <td>2015-04-15</td>\n",
       "      <td>Alger</td>\n",
       "      <td>Hydra</td>\n",
       "      <td>Algiers</td>\n",
       "      <td>1794</td>\n",
       "      <td>36.75</td>\n",
       "      <td>3.04</td>\n",
       "      <td>cereals and tubers</td>\n",
       "      <td>Potatoes</td>\n",
       "      <td>83</td>\n",
       "      <td>KG</td>\n",
       "      <td>actual</td>\n",
       "      <td>Retail</td>\n",
       "      <td>DZD</td>\n",
       "      <td>80</td>\n",
       "      <td>0.81</td>\n",
       "    </tr>\n",
       "    <tr>\n",
       "      <th>3</th>\n",
       "      <td>2015-04-15</td>\n",
       "      <td>Alger</td>\n",
       "      <td>Hydra</td>\n",
       "      <td>Algiers</td>\n",
       "      <td>1794</td>\n",
       "      <td>36.75</td>\n",
       "      <td>3.04</td>\n",
       "      <td>cereals and tubers</td>\n",
       "      <td>Rice</td>\n",
       "      <td>52</td>\n",
       "      <td>KG</td>\n",
       "      <td>actual</td>\n",
       "      <td>Retail</td>\n",
       "      <td>DZD</td>\n",
       "      <td>90</td>\n",
       "      <td>0.91</td>\n",
       "    </tr>\n",
       "    <tr>\n",
       "      <th>4</th>\n",
       "      <td>2015-04-15</td>\n",
       "      <td>Alger</td>\n",
       "      <td>Hydra</td>\n",
       "      <td>Algiers</td>\n",
       "      <td>1794</td>\n",
       "      <td>36.75</td>\n",
       "      <td>3.04</td>\n",
       "      <td>meat, fish and eggs</td>\n",
       "      <td>Eggs</td>\n",
       "      <td>92</td>\n",
       "      <td>30 pcs</td>\n",
       "      <td>actual</td>\n",
       "      <td>Retail</td>\n",
       "      <td>DZD</td>\n",
       "      <td>300</td>\n",
       "      <td>3.05</td>\n",
       "    </tr>\n",
       "    <tr>\n",
       "      <th>5</th>\n",
       "      <td>2015-04-15</td>\n",
       "      <td>Alger</td>\n",
       "      <td>Hydra</td>\n",
       "      <td>Algiers</td>\n",
       "      <td>1794</td>\n",
       "      <td>36.75</td>\n",
       "      <td>3.04</td>\n",
       "      <td>meat, fish and eggs</td>\n",
       "      <td>Meat (chicken)</td>\n",
       "      <td>94</td>\n",
       "      <td>KG</td>\n",
       "      <td>actual</td>\n",
       "      <td>Retail</td>\n",
       "      <td>DZD</td>\n",
       "      <td>277</td>\n",
       "      <td>2.81</td>\n",
       "    </tr>\n",
       "  </tbody>\n",
       "</table>\n",
       "</div>"
      ],
      "text/plain": [
       "         date admin1 admin2   market market_id latitude longitude  \\\n",
       "1  2015-04-15  Alger  Hydra  Algiers      1794    36.75      3.04   \n",
       "2  2015-04-15  Alger  Hydra  Algiers      1794    36.75      3.04   \n",
       "3  2015-04-15  Alger  Hydra  Algiers      1794    36.75      3.04   \n",
       "4  2015-04-15  Alger  Hydra  Algiers      1794    36.75      3.04   \n",
       "5  2015-04-15  Alger  Hydra  Algiers      1794    36.75      3.04   \n",
       "\n",
       "              category       commodity commodity_id    unit priceflag  \\\n",
       "1   cereals and tubers           Pasta          112   500 G    actual   \n",
       "2   cereals and tubers        Potatoes           83      KG    actual   \n",
       "3   cereals and tubers            Rice           52      KG    actual   \n",
       "4  meat, fish and eggs            Eggs           92  30 pcs    actual   \n",
       "5  meat, fish and eggs  Meat (chicken)           94      KG    actual   \n",
       "\n",
       "  pricetype currency price usdprice  \n",
       "1    Retail      DZD    60     0.61  \n",
       "2    Retail      DZD    80     0.81  \n",
       "3    Retail      DZD    90     0.91  \n",
       "4    Retail      DZD   300     3.05  \n",
       "5    Retail      DZD   277     2.81  "
      ]
     },
     "execution_count": 31,
     "metadata": {},
     "output_type": "execute_result"
    }
   ],
   "source": [
    "df = pd.read_csv('../data/raw/wfp_food_prices_dza.csv')\n",
    "df = df.drop(index=0)\n",
    "df.head()"
   ]
  },
  {
   "cell_type": "code",
   "execution_count": 32,
   "id": "3db184b1-ed1e-45e3-8201-69b84eb86ad6",
   "metadata": {},
   "outputs": [
    {
     "data": {
      "text/html": [
       "<div>\n",
       "<style scoped>\n",
       "    .dataframe tbody tr th:only-of-type {\n",
       "        vertical-align: middle;\n",
       "    }\n",
       "\n",
       "    .dataframe tbody tr th {\n",
       "        vertical-align: top;\n",
       "    }\n",
       "\n",
       "    .dataframe thead th {\n",
       "        text-align: right;\n",
       "    }\n",
       "</style>\n",
       "<table border=\"1\" class=\"dataframe\">\n",
       "  <thead>\n",
       "    <tr style=\"text-align: right;\">\n",
       "      <th></th>\n",
       "      <th>date</th>\n",
       "      <th>admin1</th>\n",
       "      <th>admin2</th>\n",
       "      <th>market</th>\n",
       "      <th>market_id</th>\n",
       "      <th>latitude</th>\n",
       "      <th>longitude</th>\n",
       "      <th>category</th>\n",
       "      <th>commodity</th>\n",
       "      <th>commodity_id</th>\n",
       "      <th>unit</th>\n",
       "      <th>priceflag</th>\n",
       "      <th>pricetype</th>\n",
       "      <th>currency</th>\n",
       "      <th>price</th>\n",
       "      <th>usdprice</th>\n",
       "    </tr>\n",
       "  </thead>\n",
       "  <tbody>\n",
       "    <tr>\n",
       "      <th>count</th>\n",
       "      <td>4490</td>\n",
       "      <td>4490</td>\n",
       "      <td>4490</td>\n",
       "      <td>4490</td>\n",
       "      <td>4490</td>\n",
       "      <td>4490</td>\n",
       "      <td>4490</td>\n",
       "      <td>4490</td>\n",
       "      <td>4490</td>\n",
       "      <td>4490</td>\n",
       "      <td>4490</td>\n",
       "      <td>4490</td>\n",
       "      <td>4490</td>\n",
       "      <td>4490</td>\n",
       "      <td>4490</td>\n",
       "      <td>4490</td>\n",
       "    </tr>\n",
       "    <tr>\n",
       "      <th>unique</th>\n",
       "      <td>56</td>\n",
       "      <td>2</td>\n",
       "      <td>2</td>\n",
       "      <td>7</td>\n",
       "      <td>7</td>\n",
       "      <td>7</td>\n",
       "      <td>6</td>\n",
       "      <td>8</td>\n",
       "      <td>38</td>\n",
       "      <td>38</td>\n",
       "      <td>13</td>\n",
       "      <td>1</td>\n",
       "      <td>1</td>\n",
       "      <td>1</td>\n",
       "      <td>306</td>\n",
       "      <td>659</td>\n",
       "    </tr>\n",
       "    <tr>\n",
       "      <th>top</th>\n",
       "      <td>2022-04-15</td>\n",
       "      <td>Tindouf</td>\n",
       "      <td>Tindouf</td>\n",
       "      <td>Dakhla</td>\n",
       "      <td>1797</td>\n",
       "      <td>26.83</td>\n",
       "      <td>-8.01</td>\n",
       "      <td>cereals and tubers</td>\n",
       "      <td>Pasta</td>\n",
       "      <td>112</td>\n",
       "      <td>KG</td>\n",
       "      <td>actual</td>\n",
       "      <td>Retail</td>\n",
       "      <td>DZD</td>\n",
       "      <td>150</td>\n",
       "      <td>1.11</td>\n",
       "    </tr>\n",
       "    <tr>\n",
       "      <th>freq</th>\n",
       "      <td>121</td>\n",
       "      <td>4255</td>\n",
       "      <td>4255</td>\n",
       "      <td>836</td>\n",
       "      <td>836</td>\n",
       "      <td>836</td>\n",
       "      <td>1193</td>\n",
       "      <td>980</td>\n",
       "      <td>192</td>\n",
       "      <td>192</td>\n",
       "      <td>2337</td>\n",
       "      <td>4490</td>\n",
       "      <td>4490</td>\n",
       "      <td>4490</td>\n",
       "      <td>418</td>\n",
       "      <td>114</td>\n",
       "    </tr>\n",
       "  </tbody>\n",
       "</table>\n",
       "</div>"
      ],
      "text/plain": [
       "              date   admin1   admin2  market market_id latitude longitude  \\\n",
       "count         4490     4490     4490    4490      4490     4490      4490   \n",
       "unique          56        2        2       7         7        7         6   \n",
       "top     2022-04-15  Tindouf  Tindouf  Dakhla      1797    26.83     -8.01   \n",
       "freq           121     4255     4255     836       836      836      1193   \n",
       "\n",
       "                  category commodity commodity_id  unit priceflag pricetype  \\\n",
       "count                 4490      4490         4490  4490      4490      4490   \n",
       "unique                   8        38           38    13         1         1   \n",
       "top     cereals and tubers     Pasta          112    KG    actual    Retail   \n",
       "freq                   980       192          192  2337      4490      4490   \n",
       "\n",
       "       currency price usdprice  \n",
       "count      4490  4490     4490  \n",
       "unique        1   306      659  \n",
       "top         DZD   150     1.11  \n",
       "freq       4490   418      114  "
      ]
     },
     "execution_count": 32,
     "metadata": {},
     "output_type": "execute_result"
    }
   ],
   "source": [
    "df.describe()"
   ]
  },
  {
   "cell_type": "code",
   "execution_count": 33,
   "id": "bc88b792-a4f2-4e73-9d7a-fdc6b1b9000e",
   "metadata": {},
   "outputs": [
    {
     "data": {
      "text/plain": [
       "date            object\n",
       "admin1          object\n",
       "admin2          object\n",
       "market          object\n",
       "market_id       object\n",
       "latitude        object\n",
       "longitude       object\n",
       "category        object\n",
       "commodity       object\n",
       "commodity_id    object\n",
       "unit            object\n",
       "priceflag       object\n",
       "pricetype       object\n",
       "currency        object\n",
       "price           object\n",
       "usdprice        object\n",
       "dtype: object"
      ]
     },
     "execution_count": 33,
     "metadata": {},
     "output_type": "execute_result"
    }
   ],
   "source": [
    "df.dtypes"
   ]
  },
  {
   "cell_type": "code",
   "execution_count": 34,
   "id": "14006f00-fb98-44a2-b392-8876b33500c0",
   "metadata": {},
   "outputs": [],
   "source": [
    "df.date = pd.to_datetime(df.date)"
   ]
  },
  {
   "cell_type": "code",
   "execution_count": 35,
   "id": "402e0ceb-9750-4ea2-b80b-3d639b6c3f4a",
   "metadata": {},
   "outputs": [
    {
     "data": {
      "text/plain": [
       "array(['Alger', 'Tindouf'], dtype=object)"
      ]
     },
     "execution_count": 35,
     "metadata": {},
     "output_type": "execute_result"
    }
   ],
   "source": [
    "df.admin1.unique()"
   ]
  },
  {
   "cell_type": "code",
   "execution_count": 36,
   "id": "6ee44ecd-90a7-45b0-8fa6-4a00b46c25d9",
   "metadata": {},
   "outputs": [
    {
     "data": {
      "text/plain": [
       "array(['Hydra', 'Tindouf'], dtype=object)"
      ]
     },
     "execution_count": 36,
     "metadata": {},
     "output_type": "execute_result"
    }
   ],
   "source": [
    "df.admin2.unique()"
   ]
  },
  {
   "cell_type": "code",
   "execution_count": 37,
   "id": "05791034-0e22-4ac2-a5a1-def95032495e",
   "metadata": {},
   "outputs": [
    {
     "data": {
      "text/plain": [
       "array(['Algiers', 'Dakhla', 'Smara', 'Tindouf', 'Awserd', 'Laayoun',\n",
       "       'Boujdour'], dtype=object)"
      ]
     },
     "execution_count": 37,
     "metadata": {},
     "output_type": "execute_result"
    }
   ],
   "source": [
    "df.market.unique()"
   ]
  },
  {
   "cell_type": "code",
   "execution_count": 38,
   "id": "8b359508-0dd1-4d08-bcc5-59ef0981bacf",
   "metadata": {},
   "outputs": [],
   "source": [
    "df.latitude = pd.to_numeric(df.latitude)\n",
    "df.longitude = pd.to_numeric(df.longitude)"
   ]
  },
  {
   "cell_type": "code",
   "execution_count": 39,
   "id": "b3387da0-9faf-4323-86f6-3ebfff900da1",
   "metadata": {},
   "outputs": [
    {
     "data": {
      "text/plain": [
       "array(['cereals and tubers', 'meat, fish and eggs', 'milk and dairy',\n",
       "       'miscellaneous food', 'non-food', 'oil and fats',\n",
       "       'pulses and nuts', 'vegetables and fruits'], dtype=object)"
      ]
     },
     "execution_count": 39,
     "metadata": {},
     "output_type": "execute_result"
    }
   ],
   "source": [
    "df.category.unique()"
   ]
  },
  {
   "cell_type": "code",
   "execution_count": 40,
   "id": "9b4630be-fc94-45bf-a2a0-49b4343bde65",
   "metadata": {},
   "outputs": [
    {
     "data": {
      "text/plain": [
       "array(['Pasta', 'Potatoes', 'Rice', 'Eggs', 'Meat (chicken)',\n",
       "       'Cheese (dry)', 'Sugar', 'Fuel (petrol-gasoline)', 'Oil',\n",
       "       'Beans (white)', 'Lentils', 'Bananas', 'Carrots', 'Onions',\n",
       "       'Oranges', 'Bread', 'Meat (camel)', 'Milk', 'Apples', 'Tomatoes',\n",
       "       'Tea (sahm)', 'Fuel (diesel)', 'Fish (canned)', 'Milk (camel)',\n",
       "       'Tea', 'Semolina', 'Wheat flour', 'Meat (lamb)', 'Cheese',\n",
       "       'Lentils (black)', 'Fish (sardine, canned)', 'Lben', 'Yogurt',\n",
       "       'Peanut', 'Dates', 'Fish (tuna, canned)', 'Almonds',\n",
       "       'Fish (fresh)'], dtype=object)"
      ]
     },
     "execution_count": 40,
     "metadata": {},
     "output_type": "execute_result"
    }
   ],
   "source": [
    "df.commodity.unique()"
   ]
  },
  {
   "cell_type": "code",
   "execution_count": 41,
   "id": "7e4b6d52-b25d-40f2-8101-82717521a723",
   "metadata": {},
   "outputs": [
    {
     "data": {
      "text/plain": [
       "array(['500 G', 'KG', '30 pcs', 'Unit', 'L', 'Packet', '125 G', '220 G',\n",
       "       '800 G', '90 G', '100 G', '65 G', '5 L'], dtype=object)"
      ]
     },
     "execution_count": 41,
     "metadata": {},
     "output_type": "execute_result"
    }
   ],
   "source": [
    "df.unit.unique()"
   ]
  },
  {
   "cell_type": "code",
   "execution_count": 42,
   "id": "56417df8-6efa-443f-a719-3e5658d6601c",
   "metadata": {},
   "outputs": [],
   "source": [
    "df['unit_code'] = (\n",
    "    df['unit']\n",
    "      .str.lower()\n",
    "      .str.extract(r'([a-z]+)')    # grab the letters\n",
    "      .iloc[:,0]\n",
    ")"
   ]
  },
  {
   "cell_type": "code",
   "execution_count": 43,
   "id": "136b0536-3f6a-424e-b5ba-7101e81ae4e4",
   "metadata": {},
   "outputs": [],
   "source": [
    "df['qty'] = df['unit'].str.extract(r'(\\d+)').astype(float).fillna(1)"
   ]
  },
  {
   "cell_type": "code",
   "execution_count": 44,
   "id": "0487870b-0eb5-4ed9-be86-f98800de0421",
   "metadata": {},
   "outputs": [
    {
     "data": {
      "text/plain": [
       "array(['actual'], dtype=object)"
      ]
     },
     "execution_count": 44,
     "metadata": {},
     "output_type": "execute_result"
    }
   ],
   "source": [
    "df.priceflag.unique()"
   ]
  },
  {
   "cell_type": "code",
   "execution_count": 45,
   "id": "f1c4a6ed-e983-4d23-ab50-a9697134c237",
   "metadata": {},
   "outputs": [
    {
     "data": {
      "text/plain": [
       "array(['Retail'], dtype=object)"
      ]
     },
     "execution_count": 45,
     "metadata": {},
     "output_type": "execute_result"
    }
   ],
   "source": [
    "df.pricetype.unique()"
   ]
  },
  {
   "cell_type": "code",
   "execution_count": 46,
   "id": "df039e84-49a7-4663-97db-e215d616af3f",
   "metadata": {},
   "outputs": [],
   "source": [
    "df = df.drop(columns=['priceflag', 'pricetype', 'unit', 'currency', 'market_id', 'commodity_id'])"
   ]
  },
  {
   "cell_type": "code",
   "execution_count": 47,
   "id": "5993c503-2456-46bf-8ec6-798e4d414acf",
   "metadata": {},
   "outputs": [],
   "source": [
    "df = df.rename(columns={'admin1': 'province', 'admin2': 'town', 'qty': 'quantity', 'unit_code': 'unit'})"
   ]
  },
  {
   "cell_type": "code",
   "execution_count": 48,
   "id": "fd245751-e650-487c-b564-a2689d76e1f5",
   "metadata": {},
   "outputs": [
    {
     "data": {
      "text/html": [
       "<div>\n",
       "<style scoped>\n",
       "    .dataframe tbody tr th:only-of-type {\n",
       "        vertical-align: middle;\n",
       "    }\n",
       "\n",
       "    .dataframe tbody tr th {\n",
       "        vertical-align: top;\n",
       "    }\n",
       "\n",
       "    .dataframe thead th {\n",
       "        text-align: right;\n",
       "    }\n",
       "</style>\n",
       "<table border=\"1\" class=\"dataframe\">\n",
       "  <thead>\n",
       "    <tr style=\"text-align: right;\">\n",
       "      <th></th>\n",
       "      <th>date</th>\n",
       "      <th>province</th>\n",
       "      <th>town</th>\n",
       "      <th>market</th>\n",
       "      <th>latitude</th>\n",
       "      <th>longitude</th>\n",
       "      <th>category</th>\n",
       "      <th>commodity</th>\n",
       "      <th>price</th>\n",
       "      <th>usdprice</th>\n",
       "      <th>unit</th>\n",
       "      <th>quantity</th>\n",
       "    </tr>\n",
       "  </thead>\n",
       "  <tbody>\n",
       "    <tr>\n",
       "      <th>1</th>\n",
       "      <td>2015-04-15</td>\n",
       "      <td>Alger</td>\n",
       "      <td>Hydra</td>\n",
       "      <td>Algiers</td>\n",
       "      <td>36.75</td>\n",
       "      <td>3.04</td>\n",
       "      <td>cereals and tubers</td>\n",
       "      <td>Pasta</td>\n",
       "      <td>60</td>\n",
       "      <td>0.61</td>\n",
       "      <td>g</td>\n",
       "      <td>500.0</td>\n",
       "    </tr>\n",
       "    <tr>\n",
       "      <th>2</th>\n",
       "      <td>2015-04-15</td>\n",
       "      <td>Alger</td>\n",
       "      <td>Hydra</td>\n",
       "      <td>Algiers</td>\n",
       "      <td>36.75</td>\n",
       "      <td>3.04</td>\n",
       "      <td>cereals and tubers</td>\n",
       "      <td>Potatoes</td>\n",
       "      <td>80</td>\n",
       "      <td>0.81</td>\n",
       "      <td>kg</td>\n",
       "      <td>1.0</td>\n",
       "    </tr>\n",
       "    <tr>\n",
       "      <th>3</th>\n",
       "      <td>2015-04-15</td>\n",
       "      <td>Alger</td>\n",
       "      <td>Hydra</td>\n",
       "      <td>Algiers</td>\n",
       "      <td>36.75</td>\n",
       "      <td>3.04</td>\n",
       "      <td>cereals and tubers</td>\n",
       "      <td>Rice</td>\n",
       "      <td>90</td>\n",
       "      <td>0.91</td>\n",
       "      <td>kg</td>\n",
       "      <td>1.0</td>\n",
       "    </tr>\n",
       "    <tr>\n",
       "      <th>4</th>\n",
       "      <td>2015-04-15</td>\n",
       "      <td>Alger</td>\n",
       "      <td>Hydra</td>\n",
       "      <td>Algiers</td>\n",
       "      <td>36.75</td>\n",
       "      <td>3.04</td>\n",
       "      <td>meat, fish and eggs</td>\n",
       "      <td>Eggs</td>\n",
       "      <td>300</td>\n",
       "      <td>3.05</td>\n",
       "      <td>pcs</td>\n",
       "      <td>30.0</td>\n",
       "    </tr>\n",
       "    <tr>\n",
       "      <th>5</th>\n",
       "      <td>2015-04-15</td>\n",
       "      <td>Alger</td>\n",
       "      <td>Hydra</td>\n",
       "      <td>Algiers</td>\n",
       "      <td>36.75</td>\n",
       "      <td>3.04</td>\n",
       "      <td>meat, fish and eggs</td>\n",
       "      <td>Meat (chicken)</td>\n",
       "      <td>277</td>\n",
       "      <td>2.81</td>\n",
       "      <td>kg</td>\n",
       "      <td>1.0</td>\n",
       "    </tr>\n",
       "  </tbody>\n",
       "</table>\n",
       "</div>"
      ],
      "text/plain": [
       "        date province   town   market  latitude  longitude  \\\n",
       "1 2015-04-15    Alger  Hydra  Algiers     36.75       3.04   \n",
       "2 2015-04-15    Alger  Hydra  Algiers     36.75       3.04   \n",
       "3 2015-04-15    Alger  Hydra  Algiers     36.75       3.04   \n",
       "4 2015-04-15    Alger  Hydra  Algiers     36.75       3.04   \n",
       "5 2015-04-15    Alger  Hydra  Algiers     36.75       3.04   \n",
       "\n",
       "              category       commodity price usdprice unit  quantity  \n",
       "1   cereals and tubers           Pasta    60     0.61    g     500.0  \n",
       "2   cereals and tubers        Potatoes    80     0.81   kg       1.0  \n",
       "3   cereals and tubers            Rice    90     0.91   kg       1.0  \n",
       "4  meat, fish and eggs            Eggs   300     3.05  pcs      30.0  \n",
       "5  meat, fish and eggs  Meat (chicken)   277     2.81   kg       1.0  "
      ]
     },
     "execution_count": 48,
     "metadata": {},
     "output_type": "execute_result"
    }
   ],
   "source": [
    "df.head()"
   ]
  },
  {
   "cell_type": "code",
   "execution_count": 49,
   "id": "e2a2c65d-bd6a-47c5-9df5-7c47e995f8fe",
   "metadata": {},
   "outputs": [],
   "source": [
    "df.to_csv('../data/processed/food.csv', index=False)"
   ]
  },
  {
   "cell_type": "code",
   "execution_count": null,
   "id": "0643a1a1-6b22-4e22-beb7-e3174c14011d",
   "metadata": {},
   "outputs": [],
   "source": []
  }
 ],
 "metadata": {
  "kernelspec": {
   "display_name": "Python 3 (ipykernel)",
   "language": "python",
   "name": "python3"
  },
  "language_info": {
   "codemirror_mode": {
    "name": "ipython",
    "version": 3
   },
   "file_extension": ".py",
   "mimetype": "text/x-python",
   "name": "python",
   "nbconvert_exporter": "python",
   "pygments_lexer": "ipython3",
   "version": "3.10.12"
  }
 },
 "nbformat": 4,
 "nbformat_minor": 5
}
